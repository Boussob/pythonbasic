{
 "cells": [
  {
   "cell_type": "markdown",
   "id": "7c4d9b27",
   "metadata": {},
   "source": [
    "# welcome\n"
   ]
  },
  {
   "cell_type": "code",
   "execution_count": 3,
   "id": "d69af070",
   "metadata": {},
   "outputs": [
    {
     "name": "stdout",
     "output_type": "stream",
     "text": [
      " Welcome to Python Pizza Deliverys\n"
     ]
    }
   ],
   "source": [
    "print(\" Welcome to Python Pizza Deliverys\")"
   ]
  },
  {
   "cell_type": "code",
   "execution_count": 12,
   "id": "19037e41",
   "metadata": {},
   "outputs": [
    {
     "name": "stdout",
     "output_type": "stream",
     "text": [
      "Entrer la taille (S,M,L)L\n",
      "Ajouter du pepperoni ? (O,N) O\n",
      " Ajouter du fromage ? O, NN\n",
      " votre facture est 28$\n"
     ]
    }
   ],
   "source": [
    "size = input (\"Entrer la taille (S,M,L)\")\n",
    "add_pepperoni = input (\"Ajouter du pepperoni ? (O,N) \")\n",
    "extra_cheese = input (\" Ajouter du fromage ? O, N\")\n",
    "\n",
    "facture = 0\n",
    "\n",
    "\n",
    "if size == \"s\" :\n",
    "    facture += 15\n",
    "    if add_pepperoni ==\"O\":\n",
    "        facture +=2\n",
    "    if extra_cheese==\"O\":\n",
    "        facture +=1\n",
    "        \n",
    "elif size == \"M\":\n",
    "    facture +=20\n",
    "    if add_pepperoni ==\"O\":\n",
    "        facture +=3\n",
    "    if extra_cheese==\"O\":\n",
    "        facture +=1\n",
    "        \n",
    "elif size == \"L\":\n",
    "    facture +=25\n",
    "    if add_pepperoni ==\"O\":\n",
    "        facture +=3\n",
    "    if extra_cheese==\"O\":\n",
    "        facture +=1\n",
    "print(f\" votre facture est {facture}$\")\n",
    "    "
   ]
  },
  {
   "cell_type": "code",
   "execution_count": null,
   "id": "62a90708",
   "metadata": {},
   "outputs": [],
   "source": []
  }
 ],
 "metadata": {
  "kernelspec": {
   "display_name": "Python 3 (ipykernel)",
   "language": "python",
   "name": "python3"
  },
  "language_info": {
   "codemirror_mode": {
    "name": "ipython",
    "version": 3
   },
   "file_extension": ".py",
   "mimetype": "text/x-python",
   "name": "python",
   "nbconvert_exporter": "python",
   "pygments_lexer": "ipython3",
   "version": "3.10.9"
  }
 },
 "nbformat": 4,
 "nbformat_minor": 5
}
